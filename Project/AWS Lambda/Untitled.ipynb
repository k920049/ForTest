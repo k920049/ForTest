{
 "cells": [
  {
   "cell_type": "code",
   "execution_count": 1,
   "metadata": {
    "collapsed": false
   },
   "outputs": [
    {
     "ename": "SyntaxError",
     "evalue": "invalid syntax (<ipython-input-1-c7ad450314f9>, line 9)",
     "output_type": "error",
     "traceback": [
      "\u001b[0;36m  File \u001b[0;32m\"<ipython-input-1-c7ad450314f9>\"\u001b[0;36m, line \u001b[0;32m9\u001b[0m\n\u001b[0;31m    r.set_oauth_app_info(client_id='stJlUSUbPQe5lQ'client_secret='DoNotSHAREWithANYBODY''authorize_callback')\u001b[0m\n\u001b[0m                                                               ^\u001b[0m\n\u001b[0;31mSyntaxError\u001b[0m\u001b[0;31m:\u001b[0m invalid syntax\n"
     ]
    }
   ],
   "source": [
    "#!/usr/bin/python\n",
    "#-​*- encoding: utf-8 -*​-\n",
    "\n",
    "import praw\n",
    "import webbrowser\n",
    "\n",
    "r = praw.Reddit('OAUTH testing example by u/_Daimon_ ver 0.1 see'\\\n",
    "'https://praw.readthedocs/io/en/latest/'\\\n",
    "'pages/oauth.html for source')\n",
    "\n",
    "r.set_oauth_app_info(client_id='stJlUSUbPQe5lQ'\\\n",
    "client_secret='DoNotSHAREWithANYBODY'\\\n",
    "'authorize_callback')\n",
    "\n",
    "url = r.get_authorize_url('uniqueKey'\\\n",
    "'identity'\\\n",
    "True)\n",
    "\n",
    "webbrowser.open(url)\n"
   ]
  },
  {
   "cell_type": "code",
   "execution_count": 2,
   "metadata": {
    "collapsed": false
   },
   "outputs": [
    {
     "ename": "SyntaxError",
     "evalue": "invalid syntax (<ipython-input-2-997bc5b59704>, line 11)",
     "output_type": "error",
     "traceback": [
      "\u001b[0;36m  File \u001b[0;32m\"<ipython-input-2-997bc5b59704>\"\u001b[0;36m, line \u001b[0;32m11\u001b[0m\n\u001b[0;31m    url = r.get_authorize_url('uniqueKey''identity'True)\u001b[0m\n\u001b[0m                                                      ^\u001b[0m\n\u001b[0;31mSyntaxError\u001b[0m\u001b[0;31m:\u001b[0m invalid syntax\n"
     ]
    }
   ],
   "source": [
    "#!/usr/bin/python\n",
    "#-​*- encoding: utf-8 -*​-\n",
    "\n",
    "import praw\n",
    "import webbrowser\n",
    "\n",
    "r = praw.Reddit('OAUTH testing example by u/_Daimon_ ver 0.1 see'\\\n",
    "'https://praw.readthedocs/io/en/latest/'\\\n",
    "'pages/oauth.html for source')\n",
    "\n",
    "r.set_oauth_app_info(client_id='stJlUSUbPQe5lQ',\\\n",
    "client_secret='DoNotSHAREWithANYBODY',\\\n",
    "'authorize_callback')\n",
    "\n",
    "url = r.get_authorize_url('uniqueKey'\\\n",
    "'identity'\\\n",
    "True)\n",
    "\n",
    "webbrowser.open(url)\n"
   ]
  },
  {
   "cell_type": "code",
   "execution_count": 3,
   "metadata": {
    "collapsed": false
   },
   "outputs": [
    {
     "ename": "SyntaxError",
     "evalue": "non-keyword arg after keyword arg (<ipython-input-3-885b3f6b7be9>, line 9)",
     "output_type": "error",
     "traceback": [
      "\u001b[0;36m  File \u001b[0;32m\"<ipython-input-3-885b3f6b7be9>\"\u001b[0;36m, line \u001b[0;32m9\u001b[0m\n\u001b[0;31m    r.set_oauth_app_info(client_id='stJlUSUbPQe5lQ',client_secret='DoNotSHAREWithANYBODY','authorize_callback')\u001b[0m\n\u001b[0;31mSyntaxError\u001b[0m\u001b[0;31m:\u001b[0m non-keyword arg after keyword arg\n"
     ]
    }
   ],
   "source": [
    "#!/usr/bin/python\n",
    "#-​*- encoding: utf-8 -*​-\n",
    "\n",
    "import praw\n",
    "import webbrowser\n",
    "\n",
    "r = praw.Reddit('OAUTH testing example by u/_Daimon_ ver 0.1 see'\\\n",
    "'https://praw.readthedocs/io/en/latest/'\\\n",
    "'pages/oauth.html for source')\n",
    "\n",
    "r.set_oauth_app_info(client_id='stJlUSUbPQe5lQ',\\\n",
    "client_secret='DoNotSHAREWithANYBODY',\\\n",
    "'authorize_callback')\n",
    "\n",
    "url = r.get_authorize_url('uniqueKey',\\\n",
    "'identity',\\\n",
    "True)\n",
    "\n",
    "webbrowser.open(url)\n"
   ]
  },
  {
   "cell_type": "code",
   "execution_count": 4,
   "metadata": {
    "collapsed": false
   },
   "outputs": [
    {
     "ename": "SyntaxError",
     "evalue": "non-keyword arg after keyword arg (<ipython-input-4-c73f6a0a270f>, line 9)",
     "output_type": "error",
     "traceback": [
      "\u001b[0;36m  File \u001b[0;32m\"<ipython-input-4-c73f6a0a270f>\"\u001b[0;36m, line \u001b[0;32m9\u001b[0m\n\u001b[0;31m    r.set_oauth_app_info(client_id='stJlUSUbPQe5lQ',client_secret='DoNotSHAREWithANYBODY',redirect_uri='http://127.0.0.1:65010/','authorize_callback')\u001b[0m\n\u001b[0;31mSyntaxError\u001b[0m\u001b[0;31m:\u001b[0m non-keyword arg after keyword arg\n"
     ]
    }
   ],
   "source": [
    "#!/usr/bin/python\n",
    "#-​*- encoding: utf-8 -*​-\n",
    "\n",
    "import praw\n",
    "import webbrowser\n",
    "\n",
    "r = praw.Reddit('OAUTH testing example by u/_Daimon_ ver 0.1 see'\\\n",
    "'https://praw.readthedocs/io/en/latest/'\\\n",
    "'pages/oauth.html for source')\n",
    "\n",
    "r.set_oauth_app_info(client_id='stJlUSUbPQe5lQ',\\\n",
    "client_secret='DoNotSHAREWithANYBODY',\\\n",
    "redirect_uri='http://127.0.0.1:65010/',\\\n",
    "'authorize_callback')\n",
    "\n",
    "url = r.get_authorize_url('uniqueKey',\\\n",
    "'identity',\\\n",
    "True)\n",
    "\n",
    "webbrowser.open(url)\n"
   ]
  },
  {
   "cell_type": "code",
   "execution_count": 5,
   "metadata": {
    "collapsed": false
   },
   "outputs": [
    {
     "name": "stderr",
     "output_type": "stream",
     "text": [
      "/Users/poi8756/anaconda/lib/python2.7/site-packages/IPython/core/formatters.py:92: DeprecationWarning: DisplayFormatter._ipython_display_formatter_default is deprecated: use @default decorator instead.\n",
      "  def _ipython_display_formatter_default(self):\n",
      "/Users/poi8756/anaconda/lib/python2.7/site-packages/IPython/core/formatters.py:98: DeprecationWarning: DisplayFormatter._formatters_default is deprecated: use @default decorator instead.\n",
      "  def _formatters_default(self):\n",
      "/Users/poi8756/anaconda/lib/python2.7/site-packages/IPython/core/formatters.py:677: DeprecationWarning: PlainTextFormatter._deferred_printers_default is deprecated: use @default decorator instead.\n",
      "  def _deferred_printers_default(self):\n",
      "/Users/poi8756/anaconda/lib/python2.7/site-packages/IPython/core/formatters.py:669: DeprecationWarning: PlainTextFormatter._singleton_printers_default is deprecated: use @default decorator instead.\n",
      "  def _singleton_printers_default(self):\n",
      "/Users/poi8756/anaconda/lib/python2.7/site-packages/IPython/core/formatters.py:672: DeprecationWarning: PlainTextFormatter._type_printers_default is deprecated: use @default decorator instead.\n",
      "  def _type_printers_default(self):\n",
      "/Users/poi8756/anaconda/lib/python2.7/site-packages/IPython/core/formatters.py:669: DeprecationWarning: PlainTextFormatter._singleton_printers_default is deprecated: use @default decorator instead.\n",
      "  def _singleton_printers_default(self):\n",
      "/Users/poi8756/anaconda/lib/python2.7/site-packages/IPython/core/formatters.py:672: DeprecationWarning: PlainTextFormatter._type_printers_default is deprecated: use @default decorator instead.\n",
      "  def _type_printers_default(self):\n",
      "/Users/poi8756/anaconda/lib/python2.7/site-packages/IPython/core/formatters.py:677: DeprecationWarning: PlainTextFormatter._deferred_printers_default is deprecated: use @default decorator instead.\n",
      "  def _deferred_printers_default(self):\n"
     ]
    },
    {
     "data": {
      "text/plain": [
       "True"
      ]
     },
     "execution_count": 5,
     "metadata": {},
     "output_type": "execute_result"
    }
   ],
   "source": [
    "#!/usr/bin/python\n",
    "#-​*- encoding: utf-8 -*​-\n",
    "\n",
    "import praw\n",
    "import webbrowser\n",
    "\n",
    "r = praw.Reddit('OAUTH testing example by u/_Daimon_ ver 0.1 see'\\\n",
    "'https://praw.readthedocs/io/en/latest/'\\\n",
    "'pages/oauth.html for source')\n",
    "\n",
    "r.set_oauth_app_info(client_id='stJlUSUbPQe5lQ',\\\n",
    "client_secret='DoNotSHAREWithANYBODY',\\\n",
    "redirect_uri='http://127.0.0.1:65010/'\n",
    "'authorize_callback')\n",
    "\n",
    "url = r.get_authorize_url('uniqueKey',\\\n",
    "'identity',\\\n",
    "True)\n",
    "\n",
    "webbrowser.open(url)\n"
   ]
  },
  {
   "cell_type": "code",
   "execution_count": null,
   "metadata": {
    "collapsed": true
   },
   "outputs": [],
   "source": []
  }
 ],
 "metadata": {
  "anaconda-cloud": {},
  "kernelspec": {
   "display_name": "Python [Root]",
   "language": "python",
   "name": "Python [Root]"
  },
  "language_info": {
   "codemirror_mode": {
    "name": "ipython",
    "version": 2
   },
   "file_extension": ".py",
   "mimetype": "text/x-python",
   "name": "python",
   "nbconvert_exporter": "python",
   "pygments_lexer": "ipython2",
   "version": "2.7.12"
  }
 },
 "nbformat": 4,
 "nbformat_minor": 0
}
